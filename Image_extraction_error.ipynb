{
 "cells": [
  {
   "cell_type": "code",
   "execution_count": null,
   "id": "cb2a8d60",
   "metadata": {},
   "outputs": [],
   "source": [
    "import json\n",
    "import os\n",
    "from io import BytesIO\n",
    "\n",
    "from documentcloud import DocumentCloud\n",
    "from PIL import Image\n",
    "\n",
    "import pytesseract # also import pytesseract to extract text using tesseract (the text output from documentcloud does not work well)"
   ]
  },
  {
   "cell_type": "code",
   "execution_count": null,
   "id": "77f977c7",
   "metadata": {},
   "outputs": [],
   "source": [
    "client = DocumentCloud(username=\"Your MuckRock ID\", password=\"Your Password\")"
   ]
  },
  {
   "cell_type": "code",
   "execution_count": null,
   "id": "4d879467",
   "metadata": {},
   "outputs": [],
   "source": [
    "DocumentID = 6183219 # This document https://www.documentcloud.org/documents/6183219-BakersfieldPoliceDeptAaronStringer08062014OISCaseF"
   ]
  },
  {
   "cell_type": "code",
   "execution_count": null,
   "id": "9d9978c3",
   "metadata": {},
   "outputs": [],
   "source": [
    "document = client.documents.get(DocumentID)"
   ]
  },
  {
   "cell_type": "code",
   "execution_count": null,
   "id": "155d38ae",
   "metadata": {},
   "outputs": [],
   "source": [
    "# Get the third annotation\n",
    "note = document.annotations[1]"
   ]
  },
  {
   "cell_type": "code",
   "execution_count": null,
   "id": "5be883a8",
   "metadata": {},
   "outputs": [],
   "source": [
    "# this is the URL where the text position JSON is located\n",
    "positions_url = (\n",
    "    f\"{document.asset_url}documents/{document.id}/pages/\"\n",
    "    f\"{document.slug}-p{note.page + 1}.position.json\"\n",
    ")"
   ]
  },
  {
   "cell_type": "code",
   "execution_count": null,
   "id": "46c177c1",
   "metadata": {},
   "outputs": [],
   "source": [
    "# fetch the text position JSON -- This line produces an error\n",
    "text_positions = json.loads(document._get_url(positions_url, True))"
   ]
  },
  {
   "cell_type": "code",
   "execution_count": null,
   "id": "74bfc69d",
   "metadata": {},
   "outputs": [],
   "source": [
    "# this is looking for all words which are entirely contained within the note\n",
    "# you could change the inequalities here if you prefer to include words\n",
    "# which are partially contained within the note\n",
    "text = \" \".join(\n",
    "    p[\"text\"]\n",
    "    for p in text_positions\n",
    "    if p[\"x1\"] > note.x1\n",
    "    and p[\"x2\"] < note.x2\n",
    "    and p[\"y1\"] > note.y1\n",
    "    and p[\"y2\"] < note.y2\n",
    ")\n"
   ]
  },
  {
   "cell_type": "code",
   "execution_count": null,
   "id": "1de12fd5",
   "metadata": {},
   "outputs": [],
   "source": [
    "# fetch the image for the page\n",
    "image = Image.open(BytesIO(document.get_image(note.page + 1)))\n",
    "# crop the image\n",
    "# the note coordinates are in percentages,\n",
    "# so multiply by the image width or height\n",
    "image = image.crop(\n",
    "    (\n",
    "        image.width * note.x1,\n",
    "        image.height * note.y1,\n",
    "        image.width * note.x2,\n",
    "        image.height * note.y2,\n",
    "    )\n",
    ")"
   ]
  },
  {
   "cell_type": "code",
   "execution_count": null,
   "id": "20c2985f",
   "metadata": {},
   "outputs": [],
   "source": [
    "print(pytesseract.image_to_string(image))"
   ]
  }
 ],
 "metadata": {
  "kernelspec": {
   "display_name": "Python 3 (ipykernel)",
   "language": "python",
   "name": "python3"
  },
  "language_info": {
   "codemirror_mode": {
    "name": "ipython",
    "version": 3
   },
   "file_extension": ".py",
   "mimetype": "text/x-python",
   "name": "python",
   "nbconvert_exporter": "python",
   "pygments_lexer": "ipython3",
   "version": "3.10.4"
  }
 },
 "nbformat": 4,
 "nbformat_minor": 5
}
